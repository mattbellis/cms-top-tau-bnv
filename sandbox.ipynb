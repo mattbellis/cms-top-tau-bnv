{
 "cells": [
  {
   "cell_type": "code",
   "execution_count": null,
   "id": "5a77f8aa-9009-4a5a-a957-372812c3dacd",
   "metadata": {},
   "outputs": [],
   "source": [
    "import numpy as np\n",
    "import matplotlib.pylab as plt\n",
    "\n",
    "import hist\n",
    "from hist import Hist\n",
    "#import mplhep as hep\n",
    "\n",
    "import uproot\n",
    "import awkward as ak\n",
    "\n",
    "import coffea\n",
    "from coffea.nanoevents import NanoEventsFactory, NanoAODSchema"
   ]
  },
  {
   "cell_type": "code",
   "execution_count": null,
   "id": "db1b0964-5c04-4e5f-b8e7-41eacfbe0e0c",
   "metadata": {},
   "outputs": [],
   "source": [
    "infilename = '/home/bellis/top_data/NANOAOD/TTToSemiLeptonic_UL_2018_SMALL_100k.root'\n",
    "\n",
    "events = NanoEventsFactory.from_root(infilename, schemaclass=NanoAODSchema).events()"
   ]
  },
  {
   "cell_type": "code",
   "execution_count": null,
   "id": "92d941ec-8c30-4b12-9134-fad4fa449253",
   "metadata": {},
   "outputs": [],
   "source": [
    "events.fields"
   ]
  },
  {
   "cell_type": "code",
   "execution_count": null,
   "id": "6aaa36f3-4ed0-4d2b-b747-a00bc6f05ca7",
   "metadata": {},
   "outputs": [],
   "source": [
    "events.Tau.fields"
   ]
  },
  {
   "cell_type": "code",
   "execution_count": null,
   "id": "4c78600c-bcfc-4811-9ea5-e6ff9404b464",
   "metadata": {},
   "outputs": [],
   "source": [
    "tau_pt = events.Tau.pt.compute()"
   ]
  },
  {
   "cell_type": "code",
   "execution_count": null,
   "id": "65a87c53-aaaf-45ac-ba3c-2d5b3d8dd0e9",
   "metadata": {},
   "outputs": [],
   "source": [
    "tau_pt"
   ]
  },
  {
   "cell_type": "code",
   "execution_count": null,
   "id": "033c2fd8-b112-49ac-9d2e-3e87ed1b9544",
   "metadata": {},
   "outputs": [],
   "source": [
    "plt.hist(ak.flatten(tau_pt),bins=100, range=(0,200))\n",
    "\n",
    ";"
   ]
  },
  {
   "cell_type": "code",
   "execution_count": null,
   "id": "4c7af15b-7672-4bb3-914a-8b2930d972dc",
   "metadata": {},
   "outputs": [],
   "source": []
  }
 ],
 "metadata": {
  "kernelspec": {
   "display_name": "Python 3 (ipykernel)",
   "language": "python",
   "name": "python3"
  },
  "language_info": {
   "codemirror_mode": {
    "name": "ipython",
    "version": 3
   },
   "file_extension": ".py",
   "mimetype": "text/x-python",
   "name": "python",
   "nbconvert_exporter": "python",
   "pygments_lexer": "ipython3",
   "version": "3.11.7"
  }
 },
 "nbformat": 4,
 "nbformat_minor": 5
}
